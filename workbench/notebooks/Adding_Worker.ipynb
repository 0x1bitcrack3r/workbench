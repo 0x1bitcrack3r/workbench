{
 "metadata": {
  "name": "",
  "signature": "sha256:3d611d2e47fe19b82f234319492f2c5a54c840555b581d4b3330e6df506ba867"
 },
 "nbformat": 3,
 "nbformat_minor": 0,
 "worksheets": [
  {
   "cells": [
    {
     "cell_type": "markdown",
     "metadata": {},
     "source": [
      "<div style=\"float: right; margin: 0px 0px 0px 0px\"><img src=\"files/images/worker.jpg\" width=\"350px\"></div>\n",
      "# Workbench: Adding a worker \n",
      "We believe that transparency, flexibility and on-site customization are critical to an agile security framework. In this notebook we illustrate how easy it is to add workers to Workbench and more importantly how to codify your teams domain knowledge for on-site customization and agility.\n",
      "\n",
      "**Tools in this Notebook:**\n",
      "- Workbench: Open Source Security Framework [Workbench GitHub](https://github.com/SuperCowPowers/workbench)\n",
      "- Bro Network Security Monitor (http://www.bro.org)\n",
      "- Pandas: Python Data Analysis Library (http://pandas.pydata.org)\n",
      "\n",
      "**More Info:** \n",
      "- See [Workbench Demo Notebook](http://nbviewer.ipython.org/github/SuperCowPowers/workbench/blob/master/notebooks/Workbench_Demo.ipynb) for a lot more info on using workbench.\n",
      "<br><br>\n",
      "\n",
      "## Lets start up the workbench server...\n",
      "Run the workbench server (from somewhere, for the demo we're just going to start a local one)\n",
      "<pre>\n",
      "$ workbench_server\n",
      "</pre>"
     ]
    },
    {
     "cell_type": "code",
     "collapsed": false,
     "input": [
      "# Lets start to interact with workbench, please note there is NO specific client to workbench,\n",
      "# Just use the ZeroRPC Python, Node.js, or CLI interfaces.\n",
      "import zerorpc\n",
      "c = zerorpc.Client()\n",
      "c.connect(\"tcp://127.0.0.1:4242\")"
     ],
     "language": "python",
     "metadata": {},
     "outputs": [
      {
       "metadata": {},
       "output_type": "pyout",
       "prompt_number": 1,
       "text": [
        "[None]"
       ]
      }
     ],
     "prompt_number": 1
    },
    {
     "cell_type": "markdown",
     "metadata": {},
     "source": [
      "<div style=\"float: left; margin: 0px 0px 0px 0px\"><img src=\"files/images/confused.jpg\" width=\"350px\"></div>\n",
      "\n",
      "## So I'm confused what am I suppose to do with workbench? \n",
      "<br>\n",
      "<font size=4> Workbench is often confusing for new users (we're trying to work on that). Please see our github repository https://github.com/SuperCowPowers/workbench for the latest documentation and notebooks examples (the notebook examples can really help). New users can start by typing **c.help()** after they connect to workbench.</font>"
     ]
    },
    {
     "cell_type": "code",
     "collapsed": false,
     "input": [
      "# I forgot what stuff I can do with workbench\n",
      "print c.help()"
     ],
     "language": "python",
     "metadata": {},
     "outputs": [
      {
       "output_type": "stream",
       "stream": "stdout",
       "text": [
        "\n",
        "Welcome to Workbench: Here's a list of help commands:\n",
        "\t - Run c.help_basic() for beginner help\n",
        "\t - Run c.help_commands() for command help\n",
        "\t - Run c.help_workers() for a list of workers\n",
        "\t - Run c.help_advanced() for advanced help\n",
        "\n",
        "See https://github.com/SuperCowPowers/workbench for more information\n"
       ]
      }
     ],
     "prompt_number": 2
    },
    {
     "cell_type": "code",
     "collapsed": false,
     "input": [
      "# Now lets get infomation about the dynamically loaded workers (your site may have many more!)\n",
      "# Next to each worker name is the list of dependences that worker has declared\n",
      "print c.help_workers()"
     ],
     "language": "python",
     "metadata": {},
     "outputs": [
      {
       "output_type": "stream",
       "stream": "stdout",
       "text": [
        "Workbench Workers:\n",
        "\tjson_meta ['sample', 'meta']\n",
        "\tlog_meta ['sample', 'meta']\n",
        "\tmeta ['sample']\n",
        "\tmeta_deep ['sample', 'meta']\n",
        "\tmy_meta ['sample', 'meta']\n",
        "\tpcap_bro ['sample']\n",
        "\tpcap_graph ['pcap_bro']\n",
        "\tpcap_http_graph ['pcap_bro']\n",
        "\tpe_classifier ['pe_features', 'pe_indicators']\n",
        "\tpe_deep_sim ['meta_deep']\n",
        "\tpe_features ['sample']\n",
        "\tpe_indicators ['sample']\n",
        "\tpe_peid ['sample']\n",
        "\tstrings ['sample']\n",
        "\tswf_meta ['sample', 'meta']\n",
        "\tunzip ['sample']\n",
        "\turl ['strings']\n",
        "\tview ['meta']\n",
        "\tview_customer ['meta']\n",
        "\tview_log_meta ['log_meta']\n",
        "\tview_meta ['meta']\n",
        "\tview_pcap ['pcap_bro']\n",
        "\tview_pcap_details ['view_pcap']\n",
        "\tview_pdf ['meta', 'strings']\n",
        "\tview_pe ['meta', 'strings', 'pe_peid', 'pe_indicators', 'pe_classifier']\n",
        "\tview_zip ['meta', 'unzip']\n",
        "\tvt_query ['meta']\n",
        "\tyara_sigs ['sample']\n"
       ]
      }
     ],
     "prompt_number": 3
    },
    {
     "cell_type": "code",
     "collapsed": false,
     "input": [
      "# Lets gets the infomation about the meta worker\n",
      "print c.help_worker('meta')"
     ],
     "language": "python",
     "metadata": {},
     "outputs": [
      {
       "output_type": "stream",
       "stream": "stdout",
       "text": [
        "\n",
        " Worker: meta ['sample']\n",
        "\t This worker computes meta data for any file type. \n"
       ]
      }
     ],
     "prompt_number": 4
    },
    {
     "cell_type": "code",
     "collapsed": false,
     "input": [
      "# Okay lets load up a file, and see what this silly meta thing gives back\n",
      "filename = '../data/pe/bad/9e42ff1e6f75ae3e60b24e48367c8f26'\n",
      "with open(filename,'rb') as f:\n",
      "    my_md5 = c.store_sample(filename, f.read(),'pe')\n",
      "output = c.work_request('meta', my_md5)\n",
      "output"
     ],
     "language": "python",
     "metadata": {},
     "outputs": [
      {
       "metadata": {},
       "output_type": "pyout",
       "prompt_number": 5,
       "text": [
        "{'meta': {'customer': 'Huge Inc',\n",
        "  'encoding': 'binary',\n",
        "  'file_size': 51200,\n",
        "  'file_type': 'PE32 executable (console) Intel 80386, for MS Windows',\n",
        "  'filename': '../../data/pe/bad/9e42ff1e6f75ae3e60b24e48367c8f26',\n",
        "  'import_time': '2014-06-21T23:51:49.122000Z',\n",
        "  'length': 51200,\n",
        "  'md5': '9e42ff1e6f75ae3e60b24e48367c8f26',\n",
        "  'mime_type': 'application/x-dosexec',\n",
        "  'type_tag': 'pe'}}"
       ]
      }
     ],
     "prompt_number": 5
    },
    {
     "cell_type": "code",
     "collapsed": false,
     "input": [
      "# Pfff... my meta data worker will be WAY better!\n",
      "# Err.. okay I'll just copy the meta worker file and see what happens.\n",
      "# Note: obviously you'd just go to the shell and cp meta.py my_meta.py\n",
      "#       but since we're in IPython...\n",
      "%cd /Users/briford/work/workbench/server/workers\n",
      "%cp meta.py my_meta.py\n",
      "%cd /Users/briford/work/workbench/notebooks"
     ],
     "language": "python",
     "metadata": {},
     "outputs": [
      {
       "output_type": "stream",
       "stream": "stdout",
       "text": [
        "/Users/briford/work/workbench/server/workers\n"
       ]
      }
     ],
     "prompt_number": 6
    },
    {
     "cell_type": "code",
     "collapsed": false,
     "input": [
      "# Okay just cause I'm feeling crazy lets look at help_workers again\n",
      "print c.help_workers()"
     ],
     "language": "python",
     "metadata": {},
     "outputs": [
      {
       "output_type": "stream",
       "stream": "stdout",
       "text": [
        "Workbench Workers:\n",
        "\tjson_meta ['sample', 'meta']\n",
        "\tlog_meta ['sample', 'meta']\n",
        "\tmeta ['sample']\n",
        "\tmeta_deep ['sample', 'meta']\n",
        "\tmy_meta ['sample', 'meta']\n",
        "\tpcap_bro ['sample']\n",
        "\tpcap_graph ['pcap_bro']\n",
        "\tpcap_http_graph ['pcap_bro']\n",
        "\tpe_classifier ['pe_features', 'pe_indicators']\n",
        "\tpe_deep_sim ['meta_deep']\n",
        "\tpe_features ['sample']\n",
        "\tpe_indicators ['sample']\n",
        "\tpe_peid ['sample']\n",
        "\tstrings ['sample']\n",
        "\tswf_meta ['sample', 'meta']\n",
        "\tunzip ['sample']\n",
        "\turl ['strings']\n",
        "\tview ['meta']\n",
        "\tview_customer ['meta']\n",
        "\tview_log_meta ['log_meta']\n",
        "\tview_meta ['meta']\n",
        "\tview_pcap ['pcap_bro']\n",
        "\tview_pcap_details ['view_pcap']\n",
        "\tview_pdf ['meta', 'strings']\n",
        "\tview_pe ['meta', 'strings', 'pe_peid', 'pe_indicators', 'pe_classifier']\n",
        "\tview_zip ['meta', 'unzip']\n",
        "\tvt_query ['meta']\n",
        "\tyara_sigs ['sample']\n"
       ]
      }
     ],
     "prompt_number": 7
    },
    {
     "cell_type": "code",
     "collapsed": false,
     "input": [
      "# My mind must be playing tricks, lets see if I can run my worker\n",
      "output = c.work_request('my_meta', my_md5)\n",
      "output"
     ],
     "language": "python",
     "metadata": {},
     "outputs": [
      {
       "metadata": {},
       "output_type": "pyout",
       "prompt_number": 8,
       "text": [
        "{'my_meta': {'entropy': 7.250194413754419,\n",
        "  'md5': '9e42ff1e6f75ae3e60b24e48367c8f26',\n",
        "  'sha1': 'e0a6d12499ed16b33c71ddec42ca8aa7bcecaaf9',\n",
        "  'sha256': '88eea1726a149ac5c08b74547a05177398757f328c0faf821b822789d76863b7',\n",
        "  'ssdeep': '1536:pTrBy35F8qNwtqKiE/n5zTY+LK9lqB9HtZeV0D:hrEpF8q6qKiE/npi9UDHtZeV4'}}"
       ]
      }
     ],
     "prompt_number": 8
    },
    {
     "cell_type": "markdown",
     "metadata": {},
     "source": [
      "<div style=\"float: left; margin: 0px 10px 0px -20px\"><img src=\"files/images/head_explode.jpg\" width=\"350px\"></div>\n",
      "## Errr... wha?... But I'm hitting the Workbench server!? So WTF just happened?\n",
      "### Workbench has a dynamic plugin loader/validator, when a new file is detected in the worker directory the following steps happen automatically:\n",
      "\n",
      "- The plugin goes through several validation checks\n",
      "- If the validation succeeds the plugin is dynamically loaded\n",
      "- Your new plugins in now running on the local server\n",
      "- Also all of the CI build/test/coverage/docs now include your plug in!\n",
      "\n",
      "## Okay I'm going to call BS... lets run the tests and see what happens!"
     ]
    },
    {
     "cell_type": "code",
     "collapsed": false,
     "input": [
      "# I've been around software... testing, server integration, test coverage all that stuff is\n",
      "# a complete PITA, heck I spend half my time doing that.. there's no way all that just happened.\n",
      "!./runtests"
     ],
     "language": "python",
     "metadata": {},
     "outputs": [
      {
       "output_type": "stream",
       "stream": "stdout",
       "text": [
        "\r\n",
        "<<< Note: Most of these tests require a local server running >>>\r\n",
        "\r\n"
       ]
      },
      {
       "output_type": "stream",
       "stream": "stdout",
       "text": [
        "."
       ]
      },
      {
       "output_type": "stream",
       "stream": "stdout",
       "text": [
        "."
       ]
      },
      {
       "output_type": "stream",
       "stream": "stdout",
       "text": [
        "."
       ]
      },
      {
       "output_type": "stream",
       "stream": "stdout",
       "text": [
        "."
       ]
      },
      {
       "output_type": "stream",
       "stream": "stdout",
       "text": [
        "."
       ]
      },
      {
       "output_type": "stream",
       "stream": "stdout",
       "text": [
        "."
       ]
      },
      {
       "output_type": "stream",
       "stream": "stdout",
       "text": [
        "."
       ]
      },
      {
       "output_type": "stream",
       "stream": "stdout",
       "text": [
        ".."
       ]
      },
      {
       "output_type": "stream",
       "stream": "stdout",
       "text": [
        "."
       ]
      },
      {
       "output_type": "stream",
       "stream": "stdout",
       "text": [
        "."
       ]
      },
      {
       "output_type": "stream",
       "stream": "stdout",
       "text": [
        "."
       ]
      },
      {
       "output_type": "stream",
       "stream": "stdout",
       "text": [
        "."
       ]
      },
      {
       "output_type": "stream",
       "stream": "stdout",
       "text": [
        ".."
       ]
      },
      {
       "output_type": "stream",
       "stream": "stdout",
       "text": [
        "."
       ]
      },
      {
       "output_type": "stream",
       "stream": "stdout",
       "text": [
        "."
       ]
      },
      {
       "output_type": "stream",
       "stream": "stdout",
       "text": [
        "."
       ]
      },
      {
       "output_type": "stream",
       "stream": "stdout",
       "text": [
        "."
       ]
      },
      {
       "output_type": "stream",
       "stream": "stdout",
       "text": [
        "."
       ]
      },
      {
       "output_type": "stream",
       "stream": "stdout",
       "text": [
        "."
       ]
      },
      {
       "output_type": "stream",
       "stream": "stdout",
       "text": [
        "."
       ]
      },
      {
       "output_type": "stream",
       "stream": "stdout",
       "text": [
        "."
       ]
      },
      {
       "output_type": "stream",
       "stream": "stdout",
       "text": [
        "."
       ]
      },
      {
       "output_type": "stream",
       "stream": "stdout",
       "text": [
        "."
       ]
      },
      {
       "output_type": "stream",
       "stream": "stdout",
       "text": [
        "."
       ]
      },
      {
       "output_type": "stream",
       "stream": "stdout",
       "text": [
        "."
       ]
      },
      {
       "output_type": "stream",
       "stream": "stdout",
       "text": [
        ".\r\n"
       ]
      },
      {
       "output_type": "stream",
       "stream": "stdout",
       "text": [
        "Name                      Stmts   Miss  Cover   Missing\r\n",
        "-------------------------------------------------------\r\n",
        "__init__   NoSource: No source for code: '/Users/briford/work/workbench/server/workers/__init__.py'\r\n",
        "json_meta                    33      2    94%   22, 57\r\n",
        "log_meta                     30      1    97%   49\r\n",
        "meta                         40      1    98%   61\r\n",
        "meta_deep                    38      1    97%   58\r\n",
        "my_meta                      40      1    98%   61\r\n",
        "pcap_bro                    122      9    93%   23-26, 115-116, 119, 121, 123, 197\r\n",
        "pcap_graph                  112      6    95%   90, 117, 177, 181, 188, 231\r\n",
        "pcap_http_graph              90      5    94%   65, 121, 125, 134, 177\r\n",
        "pe_classifier                30      1    97%   54\r\n",
        "pe_deep_sim                  39      1    97%   64\r\n"
       ]
      },
      {
       "output_type": "stream",
       "stream": "stdout",
       "text": [
        "pe_features                 208     21    90%   98-100, 148-149, 167-171, 179, 200, 222, 233, 244, 283, 290, 301, 304-305, 349\r\n",
        "pe_indicators               240     23    90%   52-53, 80, 103, 151, 159, 163, 173, 181, 193, 205, 217, 250, 260, 283, 301, 331, 349, 358, 386, 396-397, 439\r\n",
        "pe_peid                      38      3    92%   23-24, 64\r\n",
        "strings                      27      1    96%   44\r\n",
        "swf_meta                     23      1    96%   44\r\n",
        "unzip                        38      1    97%   60\r\n",
        "url                          28      1    96%   46\r\n",
        "view                         51      3    94%   25, 27, 86\r\n",
        "view_customer                23      1    96%   42\r\n",
        "view_log_meta                23      1    96%   40\r\n",
        "view_meta                    23      1    96%   41\r\n",
        "view_pcap                    31      1    97%   57\r\n",
        "view_pcap_details            32      1    97%   78\r\n",
        "view_pdf                     28      2    93%   12, 46\r\n",
        "view_pe                      39      2    95%   13, 64\r\n",
        "view_zip                     36      2    94%   17, 61\r\n",
        "vt_query                     55      7    87%   18, 22, 36-37, 50-51, 98\r\n",
        "workbench_keys/__init__       1      0   100%   \r\n"
       ]
      },
      {
       "output_type": "stream",
       "stream": "stdout",
       "text": [
        "yara_sigs                    42      2    95%   20, 75\r\n",
        "-------------------------------------------------------\r\n",
        "TOTAL                      1560    102    93%   \r\n"
       ]
      },
      {
       "output_type": "stream",
       "stream": "stdout",
       "text": [
        "----------------------------------------------------------------------\r\n",
        "Ran 28 tests in 29.193s\r\n",
        "\r\n",
        "OK\r\n"
       ]
      }
     ],
     "prompt_number": 12
    },
    {
     "cell_type": "markdown",
     "metadata": {},
     "source": [
      "<div style=\"float: right; margin: 0px 30px 0px 0px\"><img src=\"files/images/feeling_awesome.jpg\" width=\"300px\"></div>\n",
      "# My new plugin has 98% test coverage...\n",
      "# Alright, are we feeling awesome yet? \n",
      "<font size=4> Welcome to a higher dimensional plane of awesomeness. Now that we're 'locked and loaded' lets focus on the the fun stuff, making the new plugin rock my co-workers minds!\n",
      "</font>"
     ]
    },
    {
     "cell_type": "markdown",
     "metadata": {},
     "source": [
      "## Okay my_meta.py is just a copy of meta.py (lets look at it)\n",
      "<br>\n",
      "<div style=\"margin: 0px 0px 0px 0px\"><img src=\"files/images/meta.png\" width=\"800px\"></div>\n",
      "\n",
      "## We use our favorite editor, make changes to my_meta.py and hit save.\n",
      "<br>\n",
      "<div style=\"margin: 0px 0px 0px 0px\"><img src=\"files/images/my_meta.png\" width=\"800px\"></div>"
     ]
    },
    {
     "cell_type": "markdown",
     "metadata": {},
     "source": [
      "<div style=\"float: left; margin: 0px 30px 0px 0px\"><img src=\"files/images/feeling_more_awesome.jpg\" width=\"350px\"></div>\n",
      "# Alright, now it's time to get fabulous!\n",
      "### The server plugin manager has a file system watchdog that has detected changes in your plugin. \n",
      "\n",
      "### The manager 'looks' at the new plugin and as long as it passes all the validation tests, it's automatically reloaded!!!"
     ]
    },
    {
     "cell_type": "code",
     "collapsed": false,
     "input": [
      "# You sir are on some sort of needle drug... so you're saying that all the new functionality\n",
      "# that I just typed in is already available on the server? Help too? \n",
      "print c.help_worker('my_meta')\n",
      "output = c.work_request('my_meta', my_md5)\n",
      "output"
     ],
     "language": "python",
     "metadata": {},
     "outputs": [
      {
       "output_type": "stream",
       "stream": "stdout",
       "text": [
        "\n",
        " Worker: my_meta ['sample']\n",
        "\tThis worker computes my more super awesome meta-data\n",
        "        Seriously:\n",
        "               1) All the sha hashes\n",
        "               2) SSDeep (oh yeah)\n",
        "               3) Entropy (science!)\n",
        "    \n"
       ]
      },
      {
       "metadata": {},
       "output_type": "pyout",
       "prompt_number": 36,
       "text": [
        "{'my_meta': {'entropy': 2.440069216444288,\n",
        "  'md5': '0cb9aa6fb9c4aa3afad7a303e21ac0f3',\n",
        "  'sha1': '96e85768a12b2f319f2a4f0c048460e1b73aa573',\n",
        "  'sha256': '4ecf79302ba0439f62e15d0526a297975e6bb32ea25c8c70a608916a609e5a9c',\n",
        "  'ssdeep': '192:a8jJIFYrq9ATskBTp2jLDL3P1oynldvSo71nF:oFpNnnX1Tn'}}"
       ]
      }
     ],
     "prompt_number": 36
    },
    {
     "cell_type": "markdown",
     "metadata": {},
     "source": [
      "## Okay that was spiffy I'll give you that\n",
      "But I want my new worker to have access to the output of other workers, like I want to look the mime_type that the 'meta' worker has and then do some cool stuff based on that.\n",
      "\n",
      "## Lets look at the changes we made to my_meta.py\n",
      "We changed the dependency line and added the 'meta' worker (could be ANY worker)\n",
      "We also pulled the data from the meta worker and added the line about packed file.\n",
      "<br><br>\n",
      "<div style=\"margin: 0px 0px 0px 0px\"><img src=\"files/images/my_meta2.png\" width=\"800px\"></div>"
     ]
    },
    {
     "cell_type": "code",
     "collapsed": false,
     "input": [
      "# Run my new code\n",
      "output = c.work_request('my_meta', my_md5)\n",
      "output"
     ],
     "language": "python",
     "metadata": {},
     "outputs": [
      {
       "metadata": {},
       "output_type": "pyout",
       "prompt_number": 16,
       "text": [
        "{'my_meta': {'entropy': 7.250194413754419,\n",
        "  'md5': '9e42ff1e6f75ae3e60b24e48367c8f26',\n",
        "  'packed': 'probably',\n",
        "  'sha1': 'e0a6d12499ed16b33c71ddec42ca8aa7bcecaaf9',\n",
        "  'sha256': '88eea1726a149ac5c08b74547a05177398757f328c0faf821b822789d76863b7',\n",
        "  'ssdeep': '1536:pTrBy35F8qNwtqKiE/n5zTY+LK9lqB9HtZeV0D:hrEpF8q6qKiE/npi9UDHtZeV4'}}"
       ]
      }
     ],
     "prompt_number": 16
    },
    {
     "cell_type": "markdown",
     "metadata": {},
     "source": [
      "## Let enumerate all the neat things that just happened\n",
      "\n",
      "- I changed my worker, the plugin manager saw the change, validated my worker and dynamically loaded it\n",
      "- Although Workbench utilizes caching (no work is ever recomputed unless it needs to be) in this case it recognized that the 'modification time' of the worker was newer than the work results so it recomputes the results.\n",
      "- Lets look at my new plugin output in MongoDB\n",
      "<br><br>\n",
      "<div style=\"margin: 0px 0px 0px 0px\"><img src=\"files/images/my_meta_mongo.png\" width=\"800px\"></div>"
     ]
    },
    {
     "cell_type": "code",
     "collapsed": false,
     "input": [
      "# So lets do a more complicated worker just for hammering home what's happening..\n",
      "# Workbench uses Directed Acyclic Graphs to pipeline workers together, it recursively\n",
      "# satisfies dependencies with agressive caching, shallow memory copies and gevent based\n",
      "# co-operative processes on the server side. Basicaly six slices of awesome...\n",
      "output = c.work_request('view', my_md5)\n",
      "output"
     ],
     "language": "python",
     "metadata": {},
     "outputs": [
      {
       "metadata": {},
       "output_type": "pyout",
       "prompt_number": 17,
       "text": [
        "{'view': {'md5': '9e42ff1e6f75ae3e60b24e48367c8f26',\n",
        "  'view_pe': {'classification': 'Evil!',\n",
        "   'customer': 'Huge Inc',\n",
        "   'disass': 'plugin_failed',\n",
        "   'encoding': 'binary',\n",
        "   'file_size': 51200,\n",
        "   'file_type': 'PE32 executable (console) Intel 80386, for MS Windows',\n",
        "   'filename': '../../data/pe/bad/9e42ff1e6f75ae3e60b24e48367c8f26',\n",
        "   'import_time': '2014-06-21T23:51:49.122000Z',\n",
        "   'indicators': [{'category': 'PE_WARN',\n",
        "     'description': 'Suspicious flags set for section 0. Both IMAGE_SCN_MEM_WRITE and IMAGE_SCN_MEM_EXECUTE are set. This might indicate a packed executable.',\n",
        "     'severity': 2},\n",
        "    {'category': 'PE_WARN',\n",
        "     'description': 'Suspicious flags set for section 2. Both IMAGE_SCN_MEM_WRITE and IMAGE_SCN_MEM_EXECUTE are set. This might indicate a packed executable.',\n",
        "     'severity': 2},\n",
        "    {'attributes': ['queryperformancecounter', 'gettickcount'],\n",
        "     'category': 'ANTI_DEBUG',\n",
        "     'description': 'Imported symbols related to anti-debugging',\n",
        "     'severity': 3},\n",
        "    {'category': 'MALFORMED',\n",
        "     'description': 'Checksum of Zero',\n",
        "     'severity': 1},\n",
        "    {'category': 'MALFORMED',\n",
        "     'description': 'Reported Checksum does not match actual checksum',\n",
        "     'severity': 2},\n",
        "    {'category': 'MALFORMED',\n",
        "     'description': 'Image size does not match reported size',\n",
        "     'severity': 3},\n",
        "    {'attributes': ['lsicbkg'],\n",
        "     'category': 'MALFORMED',\n",
        "     'description': 'Section(s) with a non-standard name, tamper indication',\n",
        "     'severity': 3},\n",
        "    {'attributes': ['getmodulehandlea'],\n",
        "     'category': 'PROCESS_MANIPULATION',\n",
        "     'description': 'Imported symbols related to process manipulation/injection',\n",
        "     'severity': 3},\n",
        "    {'attributes': ['getsystemtimeasfiletime'],\n",
        "     'category': 'PROCESS_SPAWN',\n",
        "     'description': 'Imported symbols related to spawning a new process',\n",
        "     'severity': 2},\n",
        "    {'attributes': ['findfirstfilew', 'findnextfilew'],\n",
        "     'category': 'SYSTEM_PROBE',\n",
        "     'description': 'Imported symbols related to probing the system',\n",
        "     'severity': 2}],\n",
        "   'length': 51200,\n",
        "   'md5': '9e42ff1e6f75ae3e60b24e48367c8f26',\n",
        "   'mime_type': 'application/x-dosexec',\n",
        "   'peid_Matches': ['Microsoft Visual C++ v7.0'],\n",
        "   'type_tag': 'pe'}}}"
       ]
      }
     ],
     "prompt_number": 17
    },
    {
     "cell_type": "markdown",
     "metadata": {},
     "source": [
      "# View is a magic unicorn, it pulls different DAGs based on mime-type\n",
      "<br>\n",
      "<div style=\"margin: 0px 30px 0px 0px\"><img src=\"files/images/client_server.png\" width=\"900px\"></div>"
     ]
    },
    {
     "cell_type": "code",
     "collapsed": false,
     "input": [
      "# Yeah but I want to run my new worker on a LOTS of samples and I\n",
      "# want to put the results into a Pandas dataframes and run some \n",
      "# statistics, and do some Machine Learning and kewl plots!\n",
      "\n",
      "# This is just throwing files at Workbench (could be pdfs, swfs, pcap, memory_images, etc)\n",
      "import os\n",
      "file_list = [os.path.join('../data/pe/bad', child) for child in os.listdir('../data/pe/bad')]\n",
      "working_set = []\n",
      "for filename in file_list:\n",
      "    with open(filename,'rb') as f:\n",
      "        md5 = c.store_sample(filename, f.read(), 'pe')\n",
      "        working_set.append(md5)"
     ],
     "language": "python",
     "metadata": {},
     "outputs": [],
     "prompt_number": 21
    },
    {
     "cell_type": "code",
     "collapsed": false,
     "input": [
      "# Now just run a batch request against all the sample we just threw in\n",
      "results = c.batch_work_request('my_meta', {'md5_list':working_set})\n",
      "results"
     ],
     "language": "python",
     "metadata": {},
     "outputs": [
      {
       "metadata": {},
       "output_type": "pyout",
       "prompt_number": 27,
       "text": [
        "<generator object iterator at 0x10684e5f0>"
       ]
      }
     ],
     "prompt_number": 27
    },
    {
     "cell_type": "code",
     "collapsed": false,
     "input": [
      "# Now toss that client-server generator into a dataframe (zero-copy and efficient)\n",
      "import pandas as pd\n",
      "df_meta = pd.DataFrame(results)\n",
      "df_meta.head()"
     ],
     "language": "python",
     "metadata": {},
     "outputs": [
      {
       "html": [
        "<div style=\"max-height:1000px;max-width:1500px;overflow:auto;\">\n",
        "<table border=\"1\" class=\"dataframe\">\n",
        "  <thead>\n",
        "    <tr style=\"text-align: right;\">\n",
        "      <th></th>\n",
        "      <th>entropy</th>\n",
        "      <th>md5</th>\n",
        "      <th>packed</th>\n",
        "      <th>sha1</th>\n",
        "      <th>sha256</th>\n",
        "      <th>ssdeep</th>\n",
        "    </tr>\n",
        "  </thead>\n",
        "  <tbody>\n",
        "    <tr>\n",
        "      <th>0</th>\n",
        "      <td> 7.894680</td>\n",
        "      <td> 033d91aae8ad29ed9fbb858179271232</td>\n",
        "      <td>     probably</td>\n",
        "      <td> 83ab10907b254752f312c89125957f10d35cb9d4</td>\n",
        "      <td> eb107c004e6e1bbd3b32ad7961661bbe28a577b0cb5dac...</td>\n",
        "      <td> 1536:h6+LbfPbI5dzmJu9Tgj5aOItvEqRCHW9pjVrs2ryr...</td>\n",
        "    </tr>\n",
        "    <tr>\n",
        "      <th>1</th>\n",
        "      <td> 2.440069</td>\n",
        "      <td> 0cb9aa6fb9c4aa3afad7a303e21ac0f3</td>\n",
        "      <td> probably not</td>\n",
        "      <td> 96e85768a12b2f319f2a4f0c048460e1b73aa573</td>\n",
        "      <td> 4ecf79302ba0439f62e15d0526a297975e6bb32ea25c8c...</td>\n",
        "      <td> 192:a8jJIFYrq9ATskBTp2jLDL3P1oynldvSo71nF:oFpN...</td>\n",
        "    </tr>\n",
        "    <tr>\n",
        "      <th>2</th>\n",
        "      <td> 5.125292</td>\n",
        "      <td> 0e882ec9b485979ea84c7843d41ba36f</td>\n",
        "      <td> probably not</td>\n",
        "      <td> 12fb0a1b7d9c2b2a41f4da9ce5bbfb140fb16939</td>\n",
        "      <td> 616cf9e729c883d979212eb55178b7aac80dd9f58cb449...</td>\n",
        "      <td> 768:5HyLMqtEM1Htz8kDmP9l+nZZYp41oj7EZmJxl/N9j6...</td>\n",
        "    </tr>\n",
        "    <tr>\n",
        "      <th>3</th>\n",
        "      <td> 6.303055</td>\n",
        "      <td> 0e8b030fb6ae48ffd29e520fc16b5641</td>\n",
        "      <td> probably not</td>\n",
        "      <td> 82d57b8302b7497b2f6943f18e2d2687b9b0f5eb</td>\n",
        "      <td> feaf72bdad035e198d297bfb0b8d891645f1dacd78f0db...</td>\n",
        "      <td> 1536:1uNqjqzs1hQHhInEeJMzcmGqyF7Jwe9pvUo+5TDU4...</td>\n",
        "    </tr>\n",
        "    <tr>\n",
        "      <th>4</th>\n",
        "      <td> 7.593283</td>\n",
        "      <td> 0eb9e990c521b30428a379700ec5ab3e</td>\n",
        "      <td>     probably</td>\n",
        "      <td> b778fc55f0538de865d4853099a3faa0b29f311d</td>\n",
        "      <td> dc5e8176a5f012ebdb4835f9b570a12c045d059f6f5bdc...</td>\n",
        "      <td> 1536:KcE4iMgXjTJpdGaaJG6Mhawv7r9ZaobsLBq+h5ttB...</td>\n",
        "    </tr>\n",
        "  </tbody>\n",
        "</table>\n",
        "<p>5 rows \u00d7 6 columns</p>\n",
        "</div>"
       ],
       "metadata": {},
       "output_type": "pyout",
       "prompt_number": 28,
       "text": [
        "    entropy                               md5        packed  \\\n",
        "0  7.894680  033d91aae8ad29ed9fbb858179271232      probably   \n",
        "1  2.440069  0cb9aa6fb9c4aa3afad7a303e21ac0f3  probably not   \n",
        "2  5.125292  0e882ec9b485979ea84c7843d41ba36f  probably not   \n",
        "3  6.303055  0e8b030fb6ae48ffd29e520fc16b5641  probably not   \n",
        "4  7.593283  0eb9e990c521b30428a379700ec5ab3e      probably   \n",
        "\n",
        "                                       sha1  \\\n",
        "0  83ab10907b254752f312c89125957f10d35cb9d4   \n",
        "1  96e85768a12b2f319f2a4f0c048460e1b73aa573   \n",
        "2  12fb0a1b7d9c2b2a41f4da9ce5bbfb140fb16939   \n",
        "3  82d57b8302b7497b2f6943f18e2d2687b9b0f5eb   \n",
        "4  b778fc55f0538de865d4853099a3faa0b29f311d   \n",
        "\n",
        "                                              sha256  \\\n",
        "0  eb107c004e6e1bbd3b32ad7961661bbe28a577b0cb5dac...   \n",
        "1  4ecf79302ba0439f62e15d0526a297975e6bb32ea25c8c...   \n",
        "2  616cf9e729c883d979212eb55178b7aac80dd9f58cb449...   \n",
        "3  feaf72bdad035e198d297bfb0b8d891645f1dacd78f0db...   \n",
        "4  dc5e8176a5f012ebdb4835f9b570a12c045d059f6f5bdc...   \n",
        "\n",
        "                                              ssdeep  \n",
        "0  1536:h6+LbfPbI5dzmJu9Tgj5aOItvEqRCHW9pjVrs2ryr...  \n",
        "1  192:a8jJIFYrq9ATskBTp2jLDL3P1oynldvSo71nF:oFpN...  \n",
        "2  768:5HyLMqtEM1Htz8kDmP9l+nZZYp41oj7EZmJxl/N9j6...  \n",
        "3  1536:1uNqjqzs1hQHhInEeJMzcmGqyF7Jwe9pvUo+5TDU4...  \n",
        "4  1536:KcE4iMgXjTJpdGaaJG6Mhawv7r9ZaobsLBq+h5ttB...  \n",
        "\n",
        "[5 rows x 6 columns]"
       ]
      }
     ],
     "prompt_number": 28
    },
    {
     "cell_type": "code",
     "collapsed": false,
     "input": [
      "# Plotting defaults\n",
      "import matplotlib.pyplot as plt\n",
      "%matplotlib inline\n",
      "plt.rcParams['font.size'] = 12.0\n",
      "plt.rcParams['figure.figsize'] = 18.0, 8.0"
     ],
     "language": "python",
     "metadata": {},
     "outputs": [],
     "prompt_number": 29
    },
    {
     "cell_type": "code",
     "collapsed": false,
     "input": [
      "# Plot stuff (yes this is a silly plot but it's just an example :)\n",
      "df_meta.boxplot('entropy','packed')\n",
      "plt.xlabel('Packed')\n",
      "plt.ylabel('Entropy')\n",
      "plt.title('Entropy of Sample')\n",
      "plt.suptitle('')"
     ],
     "language": "python",
     "metadata": {},
     "outputs": [
      {
       "metadata": {},
       "output_type": "pyout",
       "prompt_number": 31,
       "text": [
        "<matplotlib.text.Text at 0x10702f2d0>"
       ]
      },
      {
       "metadata": {},
       "output_type": "display_data",
       "png": "[encoded data removed]",
       "text": [
        "<matplotlib.figure.Figure at 0x1063c2ad0>"
       ]
      }
     ],
     "prompt_number": 31
    },
    {
     "cell_type": "code",
     "collapsed": false,
     "input": [
      "# Groupby and Statistics (yes silly again but just an example)\n",
      "df_meta.groupby('packed').describe()"
     ],
     "language": "python",
     "metadata": {},
     "outputs": [
      {
       "html": [
        "<div style=\"max-height:1000px;max-width:1500px;overflow:auto;\">\n",
        "<table border=\"1\" class=\"dataframe\">\n",
        "  <thead>\n",
        "    <tr style=\"text-align: right;\">\n",
        "      <th></th>\n",
        "      <th></th>\n",
        "      <th>entropy</th>\n",
        "    </tr>\n",
        "    <tr>\n",
        "      <th>packed</th>\n",
        "      <th></th>\n",
        "      <th></th>\n",
        "    </tr>\n",
        "  </thead>\n",
        "  <tbody>\n",
        "    <tr>\n",
        "      <th rowspan=\"8\" valign=\"top\">probably</th>\n",
        "      <th>count</th>\n",
        "      <td> 23.000000</td>\n",
        "    </tr>\n",
        "    <tr>\n",
        "      <th>mean</th>\n",
        "      <td>  7.612472</td>\n",
        "    </tr>\n",
        "    <tr>\n",
        "      <th>std</th>\n",
        "      <td>  0.290949</td>\n",
        "    </tr>\n",
        "    <tr>\n",
        "      <th>min</th>\n",
        "      <td>  7.066162</td>\n",
        "    </tr>\n",
        "    <tr>\n",
        "      <th>25%</th>\n",
        "      <td>  7.339412</td>\n",
        "    </tr>\n",
        "    <tr>\n",
        "      <th>50%</th>\n",
        "      <td>  7.778263</td>\n",
        "    </tr>\n",
        "    <tr>\n",
        "      <th>75%</th>\n",
        "      <td>  7.852313</td>\n",
        "    </tr>\n",
        "    <tr>\n",
        "      <th>max</th>\n",
        "      <td>  7.919686</td>\n",
        "    </tr>\n",
        "    <tr>\n",
        "      <th rowspan=\"8\" valign=\"top\">probably not</th>\n",
        "      <th>count</th>\n",
        "      <td> 27.000000</td>\n",
        "    </tr>\n",
        "    <tr>\n",
        "      <th>mean</th>\n",
        "      <td>  5.832247</td>\n",
        "    </tr>\n",
        "    <tr>\n",
        "      <th>std</th>\n",
        "      <td>  1.017639</td>\n",
        "    </tr>\n",
        "    <tr>\n",
        "      <th>min</th>\n",
        "      <td>  2.440069</td>\n",
        "    </tr>\n",
        "    <tr>\n",
        "      <th>25%</th>\n",
        "      <td>  5.564519</td>\n",
        "    </tr>\n",
        "    <tr>\n",
        "      <th>50%</th>\n",
        "      <td>  5.967721</td>\n",
        "    </tr>\n",
        "    <tr>\n",
        "      <th>75%</th>\n",
        "      <td>  6.537146</td>\n",
        "    </tr>\n",
        "    <tr>\n",
        "      <th>max</th>\n",
        "      <td>  6.998708</td>\n",
        "    </tr>\n",
        "  </tbody>\n",
        "</table>\n",
        "<p>16 rows \u00d7 1 columns</p>\n",
        "</div>"
       ],
       "metadata": {},
       "output_type": "pyout",
       "prompt_number": 33,
       "text": [
        "                      entropy\n",
        "packed                       \n",
        "probably     count  23.000000\n",
        "             mean    7.612472\n",
        "             std     0.290949\n",
        "             min     7.066162\n",
        "             25%     7.339412\n",
        "             50%     7.778263\n",
        "             75%     7.852313\n",
        "             max     7.919686\n",
        "probably not count  27.000000\n",
        "             mean    5.832247\n",
        "             std     1.017639\n",
        "             min     2.440069\n",
        "             25%     5.564519\n",
        "             50%     5.967721\n",
        "             75%     6.537146\n",
        "             max     6.998708\n",
        "\n",
        "[16 rows x 1 columns]"
       ]
      }
     ],
     "prompt_number": 33
    },
    {
     "cell_type": "markdown",
     "metadata": {},
     "source": [
      "#Wrap Up\n",
      "Well for this notebook we illustrated how simple it is to add a worker to the Workbench project. We hope this exercise showed some neato functionality using [Workbench](https://github.com/SuperCowPowers/workbench), we encourage you to check out the GitHub repository and our other notebooks:\n",
      "- [PCAP_to_Graph](http://nbviewer.ipython.org/github/SuperCowPowers/workbench/blob/master/notebooks/PCAP_to_Graph.ipynb) for a short notebook on turning this PCAP into a Neo4j graph.\n",
      "- [Workbench Demo](http://nbviewer.ipython.org/url/raw.github.com/SuperCowPowers/workbench/master/notebooks/Workbench_Demo.ipynb) general introduction to Workbench.\n",
      "- [PCAP_DriveBy](http://nbviewer.ipython.org/url/raw.github.com/SuperCowPowers/workbench/master/notebooks/PCAP_DriveBy.ipynb) a detail look at a Web DriveBy from the [ThreatGlass](http://www.threatglass.com) repository.\n",
      "- [PE File Sim Graph](http://nbviewer.ipython.org/url/raw.github.com/SuperCowPowers/workbench/master/notebooks/PE_SimGraph.ipynb) using Neo4j to generate a similarity graph using PE File features.\n",
      "- [Generator Pipelines](http://nbviewer.ipython.org/url/raw.github.com/SuperCowPowers/workbench/master/notebooks/Generator_Pipelines.ipynb) using the client/server streaming generators to demonstrate 'chaining' generators."
     ]
    }
   ],
   "metadata": {}
  }
 ]
}
